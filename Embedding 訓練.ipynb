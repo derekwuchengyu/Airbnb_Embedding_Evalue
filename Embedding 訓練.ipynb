{
 "cells": [
  {
   "cell_type": "code",
   "execution_count": null,
   "metadata": {},
   "outputs": [],
   "source": [
    "import sys,os\n",
    "sys.path.append('/home/htdocs/apiworker/')\n",
    "from utils.airmodule import *\n",
    "                \n",
    "                \n",
    "#訓練模型\n",
    "gensim_config = {\n",
    "     'min_count':5, #單詞出現頻率\n",
    "     'window_size': 5,    # context window +- center word\n",
    "     'size': 32,            # dimensions of word embeddings, also refer to size of hidden layer\n",
    "     'epochs': 16,       # number of training epochs\n",
    "     'learning_rate': 0.01,   # learning rate\n",
    "     'glb_mtpl': 0.05,   # 主動應徵learning rate 倍數(加權)\n",
    "     'neg_mtpl': 0.1,   # 負採樣learning rate 倍數(加權)\n",
    "     'local_negative': 5, #local負採樣數\n",
    "     'local_neg_min': 1000 #local負採樣 group數量門檻    \n",
    "}\n",
    "\n",
    "printt(\"訓練模型\")\n",
    "\n",
    "obj=ClassGenerateTrain('./')\n",
    "model = obj.train_model('basic',fileName='/home/htdocs/apiworker/p591/data/591Behavior.txt',gensim_config)\n",
    "#儲存模型\n",
    "obj.save_model(model,'01_item2item_click.model')"
   ]
  }
 ],
 "metadata": {
  "kernelspec": {
   "display_name": "Python 3",
   "language": "python",
   "name": "python3"
  },
  "language_info": {
   "codemirror_mode": {
    "name": "ipython",
    "version": 3
   },
   "file_extension": ".py",
   "mimetype": "text/x-python",
   "name": "python",
   "nbconvert_exporter": "python",
   "pygments_lexer": "ipython3",
   "version": "3.7.6"
  }
 },
 "nbformat": 4,
 "nbformat_minor": 4
}
